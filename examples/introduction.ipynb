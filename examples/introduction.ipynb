{
 "cells": [
  {
   "cell_type": "markdown",
   "metadata": {},
   "source": [
    "# Introduction"
   ]
  },
  {
   "cell_type": "code",
   "execution_count": null,
   "metadata": {
    "tags": []
   },
   "outputs": [],
   "source": [
    "import numpy as np\n",
    "from simulariumio import (\n",
    "    TrajectoryData, \n",
    "    AgentData, \n",
    "    UnitData, \n",
    "    MetaData, \n",
    "    ModelMetaData,\n",
    "    CameraData, \n",
    "    DisplayData,\n",
    "    DISPLAY_TYPE,\n",
    ")\n",
    "from string import ascii_uppercase\n",
    "from random import choice\n",
    "\n",
    "# parameters\n",
    "total_steps = 5\n",
    "timestep = 0.5\n",
    "box_size = 100\n",
    "n_agents = 5\n",
    "min_radius = 5\n",
    "max_radius = 10\n",
    "\n",
    "type_names = []\n",
    "for t in range(total_steps):\n",
    "    type_names.append([choice(ascii_uppercase) for i in range(n_agents)])\n",
    "    \n",
    "example_default_data = TrajectoryData(\n",
    "    meta_data=MetaData(\n",
    "        box_size=np.array([box_size, box_size, box_size]),\n",
    "        camera_defaults=CameraData(\n",
    "            position=np.array([10.0, 0.0, 200.0]),\n",
    "            look_at_position=np.array([10.0, 0.0, 0.0]),\n",
    "            fov_degrees=60.0,\n",
    "        ),\n",
    "        trajectory_title=\"Some parameter set\",\n",
    "        model_meta_data=ModelMetaData(\n",
    "            title=\"Some agent-based model\",\n",
    "            version=\"8.1\",\n",
    "            authors=\"A Modeler\",\n",
    "            description=(\n",
    "                \"An agent-based model run with some parameter set\"\n",
    "            ),\n",
    "            doi=\"10.1016/j.bpj.2016.02.002\",\n",
    "            source_code_url=\"https://github.com/simularium/simulariumio\",\n",
    "            source_code_license_url=\"https://github.com/simularium/simulariumio/blob/main/LICENSE\",\n",
    "            input_data_url=\"https://allencell.org/path/to/native/engine/input/files\",\n",
    "            raw_output_data_url=\"https://allencell.org/path/to/native/engine/output/files\",\n",
    "        ),\n",
    "    ),\n",
    "    agent_data=AgentData(\n",
    "        times=timestep * np.array(list(range(total_steps))),\n",
    "        n_agents=np.array(total_steps * [n_agents]),\n",
    "        viz_types=np.array(total_steps * [n_agents * [1000.0]]),  # default viz type = 1000\n",
    "        unique_ids=np.array(total_steps * [list(range(n_agents))]),\n",
    "        types=type_names,\n",
    "        positions=np.random.uniform(size=(total_steps, n_agents, 3)) * box_size - box_size * 0.5,\n",
    "        radii=(max_radius - min_radius) * np.random.uniform(size=(total_steps, n_agents)) + min_radius,\n",
    "        display_data={\n",
    "            type_names[0][0]: DisplayData(\n",
    "                name=\"Molecule A\",\n",
    "                display_type=DISPLAY_TYPE.PDB,\n",
    "                url=\"https://files.rcsb.org/download/3KIN.pdb\",\n",
    "                color=\"#0080ff\",\n",
    "            ),\n",
    "        },\n",
    "    ),\n",
    "    time_units=UnitData(\"ns\"),  # nanoseconds\n",
    "    spatial_units=UnitData(\"nm\"),  # nanometers\n",
    ")"
   ]
  },
  {
   "cell_type": "code",
   "execution_count": null,
   "metadata": {
    "tags": []
   },
   "outputs": [],
   "source": [
    "from simulariumio import TrajectoryConverter\n",
    "data = TrajectoryConverter(example_default_data).to_JSON()"
   ]
  },
  {
   "cell_type": "code",
   "execution_count": null,
   "metadata": {
    "tags": []
   },
   "outputs": [],
   "source": [
    "import nbsv\n",
    "w = nbsv.ViewerWidget()\n",
    "w.trajectory = data\n",
    "display(w)\n"
   ]
  }
 ],
 "metadata": {
  "kernelspec": {
   "display_name": "Python 3 (ipykernel)",
   "language": "python",
   "name": "python3"
  },
  "language_info": {
   "codemirror_mode": {
    "name": "ipython",
    "version": 3
   },
   "file_extension": ".py",
   "mimetype": "text/x-python",
   "name": "python",
   "nbconvert_exporter": "python",
   "pygments_lexer": "ipython3",
   "version": "3.11.3"
  }
 },
 "nbformat": 4,
 "nbformat_minor": 4
}
