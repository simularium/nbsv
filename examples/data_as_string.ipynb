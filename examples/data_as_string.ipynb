{
 "cells": [
  {
   "cell_type": "markdown",
   "metadata": {},
   "source": [
    "# Data as string"
   ]
  },
  {
   "cell_type": "code",
   "execution_count": null,
   "metadata": {
    "tags": []
   },
   "outputs": [],
   "source": [
    "import nbsv\n",
    "data_as_string = '{\"trajectoryInfo\": {\"version\": 3, \"timeUnits\": {\"magnitude\": 1.0, \"name\": \"ns\"}, \"timeStepSize\": 0.5, \"totalSteps\": 5, \"spatialUnits\": {\"magnitude\": 1.0, \"name\": \"nm\"}, \"size\": {\"x\": 100.0, \"y\": 100.0, \"z\": 100.0}, \"cameraDefault\": {\"position\": {\"x\": 10.0, \"y\": 0.0, \"z\": 200.0}, \"lookAtPosition\": {\"x\": 10.0, \"y\": 0.0, \"z\": 0.0}, \"upVector\": {\"x\": 0.0, \"y\": 1.0, \"z\": 0.0}, \"fovDegrees\": 60.0}, \"typeMapping\": {\"0\": {\"name\": \"R\", \"geometry\": {\"displayType\": \"PDB\", \"url\": \"https://files.rcsb.org/download/3KIN.pdb\", \"color\": \"#0080ff\"}}, \"1\": {\"name\": \"J\", \"geometry\": {\"displayType\": \"SPHERE_GROUP\"}}, \"2\": {\"name\": \"S\", \"geometry\": {\"displayType\": \"SPHERE_GROUP\"}}, \"3\": {\"name\": \"Z\", \"geometry\": {\"displayType\": \"SPHERE_GROUP\"}}, \"4\": {\"name\": \"U\", \"geometry\": {\"displayType\": \"SPHERE_GROUP\"}}, \"5\": {\"name\": \"I\", \"geometry\": {\"displayType\": \"SPHERE_GROUP\"}}, \"6\": {\"name\": \"W\", \"geometry\": {\"displayType\": \"SPHERE_GROUP\"}}, \"7\": {\"name\": \"F\", \"geometry\": {\"displayType\": \"SPHERE_GROUP\"}}, \"8\": {\"name\": \"A\", \"geometry\": {\"displayType\": \"SPHERE_GROUP\"}}, \"9\": {\"name\": \"H\", \"geometry\": {\"displayType\": \"SPHERE_GROUP\"}}, \"10\": {\"name\": \"L\", \"geometry\": {\"displayType\": \"SPHERE_GROUP\"}}, \"11\": {\"name\": \"O\", \"geometry\": {\"displayType\": \"SPHERE_GROUP\"}}, \"12\": {\"name\": \"M\", \"geometry\": {\"displayType\": \"SPHERE_GROUP\"}}, \"13\": {\"name\": \"Y\", \"geometry\": {\"displayType\": \"SPHERE_GROUP\"}}, \"14\": {\"name\": \"T\", \"geometry\": {\"displayType\": \"SPHERE_GROUP\"}}, \"15\": {\"name\": \"C\", \"geometry\": {\"displayType\": \"SPHERE_GROUP\"}}, \"16\": {\"name\": \"V\", \"geometry\": {\"displayType\": \"SPHERE_GROUP\"}}, \"17\": {\"name\": \"X\", \"geometry\": {\"displayType\": \"SPHERE_GROUP\"}}}, \"trajectoryTitle\": \"Some parameter set\", \"modelInfo\": {\"title\": \"Some agent-based model\", \"version\": \"8.1\", \"authors\": \"A Modeler\", \"description\": \"An agent-based model run with some parameter set\", \"doi\": \"10.1016/j.bpj.2016.02.002\", \"sourceCodeUrl\": \"https://github.com/simularium/simulariumio\", \"sourceCodeLicenseUrl\": \"https://github.com/simularium/simulariumio/blob/main/LICENSE\", \"inputDataUrl\": \"https://allencell.org/path/to/native/engine/input/files\", \"rawOutputDataUrl\": \"https://allencell.org/path/to/native/engine/output/files\"}}, \"spatialData\": {\"version\": 1, \"msgType\": 1, \"bundleStart\": 0, \"bundleSize\": 5, \"bundleData\": [{\"frameNumber\": 0, \"time\": 0.0, \"data\": [1000.0, 0.0, 0.0, -43.45426970793304, 47.477066739485664, 18.205545669522067, 0.0, 0.0, 0.0, 8.58174511536173, 0.0, 1000.0, 1.0, 1.0, 36.15443429879575, 11.930963343758592, -42.28185632409372, 0.0, 0.0, 0.0, 6.792113633918364, 0.0, 1000.0, 2.0, 2.0, 1.8989488393146416, -40.045586163132526, 12.47393733223273, 0.0, 0.0, 0.0, 7.64678741269341, 0.0, 1000.0, 3.0, 3.0, -22.530997882720772, -43.54566063298747, 21.799121860810217, 0.0, 0.0, 0.0, 6.779358495445738, 0.0, 1000.0, 4.0, 4.0, -47.582809251059, 42.65407175549481, 8.391394040590171, 0.0, 0.0, 0.0, 8.868397252380957, 0.0]}, {\"frameNumber\": 1, \"time\": 0.5, \"data\": [1000.0, 0.0, 5.0, 33.92501797550558, 39.384481000334944, 43.38440596300664, 0.0, 0.0, 0.0, 8.895757337116699, 0.0, 1000.0, 1.0, 6.0, 45.123326163068384, -34.89224718974585, -19.071258105696188, 0.0, 0.0, 0.0, 9.335752952550013, 0.0, 1000.0, 2.0, 7.0, -11.524623033821811, 45.482066989363034, 30.632768970527124, 0.0, 0.0, 0.0, 7.523766406566338, 0.0, 1000.0, 3.0, 6.0, 6.8342366780454, -40.22323734172958, -46.69001660419616, 0.0, 0.0, 0.0, 7.594769728978814, 0.0, 1000.0, 4.0, 8.0, 19.45314911043087, 38.2131156616328, 13.575271537671519, 0.0, 0.0, 0.0, 6.995446591566957, 0.0]}, {\"frameNumber\": 2, \"time\": 1.0, \"data\": [1000.0, 0.0, 9.0, -32.91680975077003, 4.8074849916967395, -27.907209173872094, 0.0, 0.0, 0.0, 5.755917899965045, 0.0, 1000.0, 1.0, 9.0, 45.84101522957246, -45.020008997366425, -13.888781107753225, 0.0, 0.0, 0.0, 8.821384058852264, 0.0, 1000.0, 2.0, 10.0, -29.429771977659147, -29.13052435412088, 15.855825744475311, 0.0, 0.0, 0.0, 8.098402972847921, 0.0, 1000.0, 3.0, 11.0, 43.21034392014619, -11.283096650042921, -23.807819117464646, 0.0, 0.0, 0.0, 7.5258712728763815, 0.0, 1000.0, 4.0, 12.0, -39.5301060412786, -5.559822654643753, 41.99780068294481, 0.0, 0.0, 0.0, 8.459929129729405, 0.0]}, {\"frameNumber\": 3, \"time\": 1.5, \"data\": [1000.0, 0.0, 13.0, -39.46462474637084, -30.24501847494694, 21.386895140583746, 0.0, 0.0, 0.0, 5.648625268451743, 0.0, 1000.0, 1.0, 14.0, 45.467510943295736, -20.597485867337895, 23.182342365986244, 0.0, 0.0, 0.0, 6.520885368854615, 0.0, 1000.0, 2.0, 15.0, -45.85935444263578, -24.245366214661857, 20.149605534904836, 0.0, 0.0, 0.0, 7.1418294342710364, 0.0, 1000.0, 3.0, 12.0, 25.680139165988052, -48.16832028500817, -22.741320600840766, 0.0, 0.0, 0.0, 5.628381554856868, 0.0, 1000.0, 4.0, 1.0, -4.152768590792256, 32.49542290497588, -17.447778890876634, 0.0, 0.0, 0.0, 6.970146460799718, 0.0]}, {\"frameNumber\": 4, \"time\": 2.0, \"data\": [1000.0, 0.0, 16.0, 33.677527279182655, -14.61997760520002, -23.27619441272496, 0.0, 0.0, 0.0, 6.214378869256159, 0.0, 1000.0, 1.0, 3.0, -16.0030631195623, 16.11320771231273, 5.133701118646073, 0.0, 0.0, 0.0, 5.299262640664547, 0.0, 1000.0, 2.0, 5.0, 46.83345241215761, 42.58750194146758, -22.652729454172626, 0.0, 0.0, 0.0, 8.710100323000072, 0.0, 1000.0, 3.0, 17.0, 46.74468673619549, -2.400142614292058, 39.90134391398878, 0.0, 0.0, 0.0, 8.13836230060264, 0.0, 1000.0, 4.0, 2.0, -16.563467255975, -19.035203333646688, -20.488728873527773, 0.0, 0.0, 0.0, 8.753213349784975, 0.0]}]}, \"plotData\": {\"version\": 1, \"data\": []}}'\n",
    "viewer = nbsv.ViewerWidget(trajectory=data_as_string, width=350)\n",
    "display(viewer)"
   ]
  }
 ],
 "metadata": {
  "kernelspec": {
   "display_name": "Python 3 (ipykernel)",
   "language": "python",
   "name": "python3"
  },
  "language_info": {
   "codemirror_mode": {
    "name": "ipython",
    "version": 3
   },
   "file_extension": ".py",
   "mimetype": "text/x-python",
   "name": "python",
   "nbconvert_exporter": "python",
   "pygments_lexer": "ipython3",
   "version": "3.11.3"
  }
 },
 "nbformat": 4,
 "nbformat_minor": 4
}
